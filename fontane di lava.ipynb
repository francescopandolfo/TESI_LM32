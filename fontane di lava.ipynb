import pandas as pd
import matplotlib.pyplot as plt
import datetime

import warnings
warnings.filterwarnings("ignore")

_df1 = pd.read_csv('tesi/area - EDAM ECNE EPLU.csv', sep=';')
_df2 = pd.read_csv('tesi/area - EDAM ECOR EMCN.csv', sep=';')
_df3 = pd.read_csv('tesi/area - EDAM EMSG EPLU.csv', sep=';')
_df4 = pd.read_csv('tesi/area - EDAM EPDN ECNE.csv', sep=';')
_df5 = pd.read_csv('tesi/area - EDAM EPDN EMCN.csv', sep=';')
_df6 = pd.read_csv('tesi/area - EINT ECPN EMGL.csv', sep=';')
_df7 = pd.read_csv('tesi/area - EINT ESLN EMGL.csv', sep=';')
_df8 = pd.read_csv('tesi/area - EINT ESLN ESPC.csv', sep=';')
_df9 = pd.read_csv('tesi/area - EMEG ECPN EMGL.csv', sep=';')
_df10 = pd.read_csv('tesi/area - EMFN ECOR ECRI.csv', sep=';')
_df11 = pd.read_csv('tesi/area - EMFN ECOR EMCN.csv', sep=';')
_df12 = pd.read_csv('tesi/area - EMFN EMCN EPDN.csv', sep=';')
_df13 = pd.read_csv('tesi/area - EPDN ECNE ECPN.csv', sep=';')
_df14 = pd.read_csv('tesi/area - EPDN EINT ECPN.csv', sep=';')
_df15 = pd.read_csv('tesi/area - EPDN EINT ESPC.csv', sep=';')
_df16 = pd.read_csv('tesi/area - EPDN EMFN ESPC.csv', sep=';')
_df17 = pd.read_csv('tesi/area - EPLU ECNE ECPN.csv', sep=';')
_df18 = pd.read_csv('tesi/area - EPLU EMEG ECPN.csv', sep=';')
_df19 = pd.read_csv('tesi/area - EPLU EMEG EMAL.csv', sep=';')
_df20 = pd.read_csv('tesi/area - EPLU EMSG EMAL.csv', sep=';')
