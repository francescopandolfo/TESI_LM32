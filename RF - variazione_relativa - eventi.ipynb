{
  "cells": [
    {
      "cell_type": "markdown",
      "metadata": {
        "id": "view-in-github",
        "colab_type": "text"
      },
      "source": [
        "<a href=\"https://colab.research.google.com/github/francescopandolfo/TESI_LM32/blob/main/RF%20-%20variazione_relativa%20-%20eventi.ipynb\" target=\"_parent\"><img src=\"https://colab.research.google.com/assets/colab-badge.svg\" alt=\"Open In Colab\"/></a>"
      ]
    },
    {
      "cell_type": "code",
      "source": [
        "from google.colab import drive\n",
        "drive.mount('/content/drive')"
      ],
      "metadata": {
        "colab": {
          "base_uri": "https://localhost:8080/"
        },
        "id": "Taz9Rv6bW1FC",
        "outputId": "5b167922-134b-4c80-97e0-d6e7dc6381b4"
      },
      "execution_count": 1,
      "outputs": [
        {
          "output_type": "stream",
          "name": "stdout",
          "text": [
            "Mounted at /content/drive\n"
          ]
        }
      ]
    },
    {
      "cell_type": "code",
      "execution_count": 3,
      "metadata": {
        "id": "Y6N3RVtrq6jm",
        "outputId": "87b8e660-59e6-4dff-9a38-425b989d317c",
        "colab": {
          "base_uri": "https://localhost:8080/"
        }
      },
      "outputs": [
        {
          "output_type": "stream",
          "name": "stdout",
          "text": [
            "<class 'pandas.core.frame.DataFrame'>\n",
            "DatetimeIndex: 140 entries, 2018-12-16 to 2021-01-18\n",
            "Data columns (total 20 columns):\n",
            " #   Column               Non-Null Count  Dtype  \n",
            "---  ------               --------------  -----  \n",
            " 0   edam_ecne_eplu_diff  140 non-null    float64\n",
            " 1   edam_ecor_emcn_diff  140 non-null    float64\n",
            " 2   edam_emsg_eplu_diff  140 non-null    float64\n",
            " 3   edam_epdn_ecne_diff  140 non-null    float64\n",
            " 4   edam_epdn_emcn_diff  140 non-null    float64\n",
            " 5   eint_ecpn_emgl_diff  140 non-null    float64\n",
            " 6   eint_esln_emgl_diff  140 non-null    float64\n",
            " 7   eint_esln_espc_diff  140 non-null    float64\n",
            " 8   emeg_ecpn_emgl_diff  140 non-null    float64\n",
            " 9   emfn_ecor_ecri_diff  140 non-null    float64\n",
            " 10  emfn_ecor_emcn_diff  140 non-null    float64\n",
            " 11  emfn_emcn_epdn_diff  140 non-null    float64\n",
            " 12  epdn_ecne_ecpn_diff  140 non-null    float64\n",
            " 13  epdn_eint_ecpn_diff  140 non-null    float64\n",
            " 14  epdn_eint_espc_diff  140 non-null    float64\n",
            " 15  epdn_emfn_espc_diff  140 non-null    float64\n",
            " 16  eplu_ecne_ecpn_diff  140 non-null    float64\n",
            " 17  eplu_emeg_ecpn_diff  140 non-null    float64\n",
            " 18  eplu_emeg_emal_diff  140 non-null    float64\n",
            " 19  eplu_emsg_emal_diff  140 non-null    float64\n",
            "dtypes: float64(20)\n",
            "memory usage: 23.0 KB\n",
            "None\n"
          ]
        }
      ],
      "source": [
        "import pandas as pd\n",
        "import matplotlib.pyplot as plt\n",
        "import datetime\n",
        "\n",
        "import warnings\n",
        "warnings.filterwarnings(\"ignore\")\n",
        "pathDrive = 'drive/MyDrive/UNICT/_TESI/dati/'\n",
        "\n",
        "#df = pd.read_csv('sample_data/dati_interpolati_diff_1d-2d_undsamp_7gg.csv', sep=';')\n",
        "df = pd.read_csv(pathDrive + 'dati_interpolati_diff_1d-2d_8gg - eventi.csv', sep=';')\n",
        "#df = pd.read_csv('tesi/dati_interpolati_diff_1d_undsamp_7gg_2classi.csv', sep=';')\n",
        "#df = pd.read_csv('sample_data/dati_interpolati_diff_3d-3d_undsamp_7gg.csv', sep=';')\n",
        "\n",
        "df['edam_ecne_eplu_diff'] = df['edam_ecne_eplu_diff'].str.replace(',','.').astype(float)#\n",
        "df['edam_ecor_emcn_diff'] = df['edam_ecor_emcn_diff'].str.replace(',','.').astype(float)\n",
        "df['edam_emsg_eplu_diff'] = df['edam_emsg_eplu_diff'].str.replace(',','.').astype(float)\n",
        "df['edam_epdn_ecne_diff'] = df['edam_epdn_ecne_diff'].str.replace(',','.').astype(float)\n",
        "df['edam_epdn_emcn_diff'] = df['edam_epdn_emcn_diff'].str.replace(',','.').astype(float)\n",
        "df['eint_ecpn_emgl_diff'] = df['eint_ecpn_emgl_diff'].str.replace(',','.').astype(float)#\n",
        "df['eint_esln_emgl_diff'] = df['eint_esln_emgl_diff'].str.replace(',','.').astype(float)\n",
        "df['eint_esln_espc_diff'] = df['eint_esln_espc_diff'].str.replace(',','.').astype(float)\n",
        "df['emeg_ecpn_emgl_diff'] = df['emeg_ecpn_emgl_diff'].str.replace(',','.').astype(float)\n",
        "df['emfn_ecor_ecri_diff'] = df['emfn_ecor_ecri_diff'].str.replace(',','.').astype(float)\n",
        "df['emfn_ecor_emcn_diff'] = df['emfn_ecor_emcn_diff'].str.replace(',','.').astype(float)\n",
        "df['emfn_emcn_epdn_diff'] = df['emfn_emcn_epdn_diff'].str.replace(',','.').astype(float)\n",
        "df['epdn_ecne_ecpn_diff'] = df['epdn_ecne_ecpn_diff'].str.replace(',','.').astype(float)\n",
        "df['epdn_eint_ecpn_diff'] = df['epdn_eint_ecpn_diff'].str.replace(',','.').astype(float)##\n",
        "df['epdn_eint_espc_diff'] = df['epdn_eint_espc_diff'].str.replace(',','.').astype(float)\n",
        "df['epdn_emfn_espc_diff'] = df['epdn_emfn_espc_diff'].str.replace(',','.').astype(float)\n",
        "df['eplu_ecne_ecpn_diff'] = df['eplu_ecne_ecpn_diff'].str.replace(',','.').astype(float)\n",
        "df['eplu_emeg_ecpn_diff'] = df['eplu_emeg_ecpn_diff'].str.replace(',','.').astype(float)\n",
        "df['eplu_emeg_emal_diff'] = df['eplu_emeg_emal_diff'].str.replace(',','.').astype(float)\n",
        "df['eplu_emsg_emal_diff'] = df['eplu_emsg_emal_diff'].str.replace(',','.').astype(float)\n",
        "\n",
        "_dftarget = df['evento'].astype(int).values\n",
        "\n",
        "format = '%d/%m/%Y'\n",
        "df['date'] = pd.to_datetime(df['day'], format=format)\n",
        "df = df.set_index('date')\n",
        "df = df.drop(columns=['day'])\n",
        "df = df.drop(columns=['evento'])\n",
        "\n",
        "for i in reversed(range(len(df.columns))):\n",
        "  if df.dtypes[df.columns[i]] == 'object':\n",
        "    df = df.drop(df.columns[i], axis=1)\n",
        "\n",
        "normalized_df = (df - df.mean()) / df.std()\n",
        "df = normalized_df\n",
        "\n",
        "#print(df.info())\n"
      ]
    },
    {
      "cell_type": "code",
      "execution_count": 7,
      "metadata": {
        "colab": {
          "base_uri": "https://localhost:8080/"
        },
        "id": "80vdfkeh3uQf",
        "outputId": "cfd3009b-a578-45dd-e58b-fb30b237375f"
      },
      "outputs": [
        {
          "output_type": "stream",
          "name": "stdout",
          "text": [
            "area 0 - 1 - 2 - 3;85.7;38.1;123.8\n",
            "area 0 - 1 - 2 - 4;87.8;69.0;156.8\n",
            "area 0 - 1 - 2 - 11;86.7;71.4;158.2\n",
            "area 0 - 1 - 2 - 14;87.8;73.8;161.6\n",
            "area 0 - 1 - 5 - 6;87.8;76.2;163.9\n",
            "area 0 - 1 - 6 - 9;89.8;76.2;166.0\n",
            "area 0 - 1 - 10 - 14;87.8;81.0;168.7\n",
            "area 0 - 1 - 14 - 16;90.8;81.0;171.8\n"
          ]
        }
      ],
      "source": [
        "from sklearn.ensemble import RandomForestClassifier\n",
        "\n",
        "feature_number = 20\n",
        "clf = RandomForestClassifier(max_depth=3, random_state=0)\n",
        "\n",
        "y = _dftarget\n",
        "split_at = 98\n",
        "\n",
        "#max_f1_score = 0\n",
        "#max_f1_score_who = \"\"\n",
        "max_accuracy_score = 0\n",
        "max_accuracy_score_who = \"\"\n",
        "\n",
        "for i in range(feature_number):\n",
        "  for j in range(feature_number):\n",
        "    for a in range(feature_number):\n",
        "      for b in range(feature_number):\n",
        "        #for c in range(feature_number):\n",
        "          #for d in range(feature_number):\n",
        "            #for e in range(feature_number):\n",
        "              #for f in range(feature_number):\n",
        "                #for g in range(feature_number):\n",
        "                  #for h in range(feature_number):\n",
        "\n",
        "        if i<j and j<a and a<b:\n",
        "        #if i==4 and j==7 and a==14:\n",
        "\n",
        "          X = df.values[:, [i,j,a,b]]\n",
        "          who = \"area \" + str(i) + \" - \" + str(j) + \" - \" + str(a) + \" - \" + str(b)\n",
        "\n",
        "          X_train = X[:split_at]\n",
        "          X_test = X[split_at:]\n",
        "\n",
        "          y_train = y[:split_at]\n",
        "          y_test = y[split_at:]\n",
        "\n",
        "          clf.fit(X_train, y_train)\n",
        "\n",
        "          #Return the mean accuracy on the given test data and labels.\n",
        "          acc_s = clf.score(X_train, y_train, sample_weight=None)*100\n",
        "          acc_s_test = clf.score(X_test, y_test, sample_weight=None)*100\n",
        "\n",
        "          #print(clf.predict([[0, 0, 0, 0]]))\n",
        "\n",
        "          if max_accuracy_score < acc_s+acc_s_test:\n",
        "            max_accuracy_score = acc_s+acc_s_test\n",
        "            max_accuracy_score_who = who\n",
        "            print( who + \";\" + \"{:.1f}\".format(acc_s) + \";\" + \"{:.1f}\".format(acc_s_test) +\";\" + \"{:.1f}\".format(acc_s+acc_s_test) )\n",
        "\n",
        "\n",
        "\n",
        "#print( max_f1_score_who )\n",
        "#print( \"---------------------> \" + max_accuracy_score_who + \" \" + str(max_accuracy_score) )\n",
        "#print( conf_mat )\n",
        "\n"
      ]
    }
  ],
  "metadata": {
    "colab": {
      "provenance": [],
      "mount_file_id": "https://github.com/francescopandolfo/TESI_LM32/blob/main/variazione_relativa%20-%20eventi.ipynb",
      "authorship_tag": "ABX9TyMHNlhRoFLcZ4OzHmX0mrMi",
      "include_colab_link": true
    },
    "kernelspec": {
      "display_name": "Python 3",
      "name": "python3"
    },
    "language_info": {
      "name": "python"
    }
  },
  "nbformat": 4,
  "nbformat_minor": 0
}