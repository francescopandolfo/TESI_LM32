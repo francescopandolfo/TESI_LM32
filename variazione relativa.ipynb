{
  "nbformat": 4,
  "nbformat_minor": 0,
  "metadata": {
    "colab": {
      "provenance": [],
      "authorship_tag": "ABX9TyN+6k6OEoZPvIUW4+2ypX4b",
      "include_colab_link": true
    },
    "kernelspec": {
      "name": "python3",
      "display_name": "Python 3"
    },
    "language_info": {
      "name": "python"
    }
  },
  "cells": [
    {
      "cell_type": "markdown",
      "metadata": {
        "id": "view-in-github",
        "colab_type": "text"
      },
      "source": [
        "<a href=\"https://colab.research.google.com/github/francescopandolfo/TESI_LM32/blob/main/variazione%20relativa.ipynb\" target=\"_parent\"><img src=\"https://colab.research.google.com/assets/colab-badge.svg\" alt=\"Open In Colab\"/></a>"
      ]
    },
    {
      "cell_type": "code",
      "execution_count": null,
      "metadata": {
        "id": "Y6N3RVtrq6jm"
      },
      "outputs": [],
      "source": [
        "import pandas as pd\n",
        "import matplotlib.pyplot as plt\n",
        "import datetime\n",
        "\n",
        "import warnings\n",
        "warnings.filterwarnings(\"ignore\")\n",
        "\n",
        "_df1 = pd.read_csv('tesi/area - EDAM ECNE EPLU.csv', sep=';')\n",
        "_df2 = pd.read_csv('tesi/area - EDAM ECOR EMCN.csv', sep=';')\n",
        "_df3 = pd.read_csv('tesi/area - EDAM EMSG EPLU.csv', sep=';')\n",
        "_df4 = pd.read_csv('tesi/area - EDAM EPDN ECNE.csv', sep=';')\n",
        "_df5 = pd.read_csv('tesi/area - EDAM EPDN EMCN.csv', sep=';')\n",
        "_df6 = pd.read_csv('tesi/area - EINT ECPN EMGL.csv', sep=';')\n",
        "_df7 = pd.read_csv('tesi/area - EINT ESLN EMGL.csv', sep=';')\n",
        "_df8 = pd.read_csv('tesi/area - EINT ESLN ESPC.csv', sep=';')\n",
        "_df9 = pd.read_csv('tesi/area - EMEG ECPN EMGL.csv', sep=';')\n",
        "_df10 = pd.read_csv('tesi/area - EMFN ECOR ECRI.csv', sep=';')\n",
        "_df11 = pd.read_csv('tesi/area - EMFN ECOR EMCN.csv', sep=';')\n",
        "_df12 = pd.read_csv('tesi/area - EMFN EMCN EPDN.csv', sep=';')\n",
        "_df13 = pd.read_csv('tesi/area - EPDN ECNE ECPN.csv', sep=';')\n",
        "_df14 = pd.read_csv('tesi/area - EPDN EINT ECPN.csv', sep=';')\n",
        "_df15 = pd.read_csv('tesi/area - EPDN EINT ESPC.csv', sep=';')\n",
        "_df16 = pd.read_csv('tesi/area - EPDN EMFN ESPC.csv', sep=';')\n",
        "_df17 = pd.read_csv('tesi/area - EPLU ECNE ECPN.csv', sep=';')\n",
        "_df18 = pd.read_csv('tesi/area - EPLU EMEG ECPN.csv', sep=';')\n",
        "_df19 = pd.read_csv('tesi/area - EPLU EMEG EMAL.csv', sep=';')\n",
        "_df20 = pd.read_csv('tesi/area - EPLU EMSG EMAL.csv', sep=';')\n",
        "_dftarget = pd.read_csv('tesi/eventi si_no.csv', sep=';')"
      ]
    }
  ]
}