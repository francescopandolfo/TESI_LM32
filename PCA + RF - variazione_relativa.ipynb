{
  "cells": [
    {
      "cell_type": "markdown",
      "metadata": {
        "id": "view-in-github",
        "colab_type": "text"
      },
      "source": [
        "<a href=\"https://colab.research.google.com/github/francescopandolfo/TESI_LM32/blob/main/PCA%20%2B%20RF%20-%20variazione_relativa.ipynb\" target=\"_parent\"><img src=\"https://colab.research.google.com/assets/colab-badge.svg\" alt=\"Open In Colab\"/></a>"
      ]
    },
    {
      "cell_type": "code",
      "source": [
        "from google.colab import drive\n",
        "drive.mount('/content/drive')"
      ],
      "metadata": {
        "colab": {
          "base_uri": "https://localhost:8080/"
        },
        "id": "a4BVpr7woYWn",
        "outputId": "c94b9efc-febb-44b6-eab1-7b0ad8332195"
      },
      "execution_count": null,
      "outputs": [
        {
          "output_type": "stream",
          "name": "stdout",
          "text": [
            "Mounted at /content/drive\n"
          ]
        }
      ]
    },
    {
      "cell_type": "code",
      "execution_count": null,
      "metadata": {
        "id": "Y6N3RVtrq6jm"
      },
      "outputs": [],
      "source": [
        "import pandas as pd\n",
        "import matplotlib.pyplot as plt\n",
        "import datetime\n",
        "from sklearn.utils import shuffle\n",
        "\n",
        "import warnings\n",
        "warnings.filterwarnings(\"ignore\")\n",
        "pathDrive = 'drive/MyDrive/UNICT/_TESI/dati/'\n",
        "\n",
        "df = pd.read_csv(pathDrive + 'dati_interpolati_diff_1d-2d_8gg.csv', sep=';')\n",
        "\n",
        "df['edam_ecne_eplu_diff'] = df['edam_ecne_eplu_diff'].str.replace(',','.').astype(float)#\n",
        "df['edam_ecor_emcn_diff'] = df['edam_ecor_emcn_diff'].str.replace(',','.').astype(float)\n",
        "df['edam_emsg_eplu_diff'] = df['edam_emsg_eplu_diff'].str.replace(',','.').astype(float)\n",
        "df['edam_epdn_ecne_diff'] = df['edam_epdn_ecne_diff'].str.replace(',','.').astype(float)\n",
        "df['edam_epdn_emcn_diff'] = df['edam_epdn_emcn_diff'].str.replace(',','.').astype(float)\n",
        "df['eint_ecpn_emgl_diff'] = df['eint_ecpn_emgl_diff'].str.replace(',','.').astype(float)#\n",
        "df['eint_esln_emgl_diff'] = df['eint_esln_emgl_diff'].str.replace(',','.').astype(float)\n",
        "df['eint_esln_espc_diff'] = df['eint_esln_espc_diff'].str.replace(',','.').astype(float)\n",
        "df['emeg_ecpn_emgl_diff'] = df['emeg_ecpn_emgl_diff'].str.replace(',','.').astype(float)\n",
        "df['emfn_ecor_ecri_diff'] = df['emfn_ecor_ecri_diff'].str.replace(',','.').astype(float)\n",
        "df['emfn_ecor_emcn_diff'] = df['emfn_ecor_emcn_diff'].str.replace(',','.').astype(float)\n",
        "df['emfn_emcn_epdn_diff'] = df['emfn_emcn_epdn_diff'].str.replace(',','.').astype(float)\n",
        "df['epdn_ecne_ecpn_diff'] = df['epdn_ecne_ecpn_diff'].str.replace(',','.').astype(float)\n",
        "df['epdn_eint_ecpn_diff'] = df['epdn_eint_ecpn_diff'].str.replace(',','.').astype(float)##\n",
        "df['epdn_eint_espc_diff'] = df['epdn_eint_espc_diff'].str.replace(',','.').astype(float)\n",
        "df['epdn_emfn_espc_diff'] = df['epdn_emfn_espc_diff'].str.replace(',','.').astype(float)\n",
        "df['eplu_ecne_ecpn_diff'] = df['eplu_ecne_ecpn_diff'].str.replace(',','.').astype(float)\n",
        "df['eplu_emeg_ecpn_diff'] = df['eplu_emeg_ecpn_diff'].str.replace(',','.').astype(float)\n",
        "df['eplu_emeg_emal_diff'] = df['eplu_emeg_emal_diff'].str.replace(',','.').astype(float)\n",
        "df['eplu_emsg_emal_diff'] = df['eplu_emsg_emal_diff'].str.replace(',','.').astype(float)\n",
        "\n",
        "\n",
        "df = shuffle(df)\n",
        "\n",
        "_dftarget = df['evento'].astype(int).values\n",
        "\n",
        "format = '%d/%m/%Y'\n",
        "df['date'] = pd.to_datetime(df['day'], format=format)\n",
        "df = df.set_index('date')\n",
        "df = df.drop(columns=['day'])\n",
        "df = df.drop(columns=['evento'])\n",
        "\n",
        "for i in reversed(range(len(df.columns))):\n",
        "  if df.dtypes[df.columns[i]] == 'object':\n",
        "    df = df.drop(df.columns[i], axis=1)\n",
        "\n",
        "normalized_df = (df - df.mean()) / df.std()\n",
        "df = normalized_df\n",
        "\n",
        "#print(df.info())\n"
      ]
    },
    {
      "cell_type": "code",
      "execution_count": null,
      "metadata": {
        "id": "mx9qNUCl3pT3"
      },
      "outputs": [],
      "source": [
        "#import numpy as np\n",
        "from sklearn import datasets\n",
        "from sklearn.model_selection import train_test_split\n",
        "from mlxtend.plotting import plot_decision_regions\n",
        "from sklearn.metrics import f1_score, accuracy_score, confusion_matrix\n",
        "#import matplotlib.pyplot as plt"
      ]
    },
    {
      "cell_type": "code",
      "source": [
        "from sklearn import datasets, decomposition\n",
        "pca_feature_number = 16\n",
        "pca = decomposition.PCA(n_components = pca_feature_number)\n",
        "pca.fit(df)\n",
        "new_df = pca.transform(df)\n",
        "\n",
        "for i in range(pca_feature_number):\n",
        "  df['f_' + str(i)] = new_df[:,i]\n",
        "\n",
        "df = df.filter(like='f_')\n",
        "print(df.info())"
      ],
      "metadata": {
        "id": "5-tssgTho8FB"
      },
      "execution_count": null,
      "outputs": []
    },
    {
      "cell_type": "code",
      "execution_count": null,
      "metadata": {
        "colab": {
          "base_uri": "https://localhost:8080/"
        },
        "id": "80vdfkeh3uQf",
        "outputId": "a4cf80b8-7487-4b78-dd4f-25fc1c5c180a"
      },
      "outputs": [
        {
          "output_type": "stream",
          "name": "stdout",
          "text": [
            "feature 0 - 1 - 2 - 3 - 4 - 5;56.0;62.8;118.8\n",
            "feature 0 - 1 - 2 - 3 - 4 - 6;58.7;60.5;119.1\n",
            "feature 0 - 1 - 2 - 3 - 4 - 7;55.3;65.1;120.4\n",
            "feature 0 - 1 - 2 - 3 - 4 - 9;54.7;67.4;122.1\n",
            "feature 0 - 1 - 2 - 3 - 4 - 12;64.0;60.5;124.5\n",
            "feature 0 - 1 - 2 - 3 - 7 - 10;58.0;67.4;125.4\n",
            "feature 0 - 1 - 2 - 3 - 7 - 12;63.3;65.1;128.4\n",
            "feature 0 - 1 - 2 - 3 - 9 - 12;66.7;62.8;129.5\n",
            "feature 0 - 1 - 2 - 3 - 12 - 15;64.7;69.8;134.4\n",
            "feature 0 - 2 - 3 - 4 - 12 - 14;62.7;72.1;134.8\n",
            "feature 0 - 2 - 3 - 11 - 12 - 14;62.0;74.4;136.4\n",
            "feature 0 - 2 - 5 - 7 - 11 - 12;63.3;74.4;137.8\n",
            "feature 2 - 3 - 6 - 7 - 12 - 14;64.0;74.4;138.4\n"
          ]
        }
      ],
      "source": [
        "#from sklearn.linear_model import LogisticRegression, LogisticRegressionCV\n",
        "from sklearn.ensemble import RandomForestClassifier\n",
        "\n",
        "y = _dftarget\n",
        "split_at = 150\n",
        "\n",
        "clf = RandomForestClassifier(max_depth=3, random_state=0)\n",
        "\n",
        "#max_f1_score = 0\n",
        "#max_f1_score_who = \"\"\n",
        "max_accuracy_score = 0\n",
        "max_accuracy_score_who = \"\"\n",
        "contatore = 0\n",
        "\n",
        "for i in range(pca_feature_number):\n",
        "  for j in range(pca_feature_number):\n",
        "    for a in range(pca_feature_number):\n",
        "      for b in range(pca_feature_number):\n",
        "        for c in range(pca_feature_number):\n",
        "          for d in range(pca_feature_number):\n",
        "\n",
        "            if i<j and j<a and a<b and b<c and c<d:\n",
        "              contatore += 1\n",
        "\n",
        "              X = df.values[:, [i,j,a,b,c,d]]\n",
        "              who = str(contatore) + \": features \" + str(i) + \" - \" + str(j) + \" - \" + str(a) + \" - \" + str(b) + \" - \" + str(c) + \" - \" + str(d)\n",
        "\n",
        "              X_train = X[:split_at]\n",
        "              X_test = X[split_at:]\n",
        "\n",
        "              y_train = y[:split_at]\n",
        "              y_test = y[split_at:]\n",
        "\n",
        "              ################ LOGISTIC REGRESSION with CROSS VALIDATION\n",
        "              #lr = LogisticRegressionCV(cv=5, random_state=0, class_weight='balanced') #scoring per cambiare metrica\n",
        "              #lr.fit(X_train, y_train)\n",
        "              #acc_s = lr.score(X_train, y_train)*100\n",
        "              #acc_s_test = lr.score(X_test, y_test)*100\n",
        "              ###########################################################\n",
        "\n",
        "              ################ RANDOM FOREST\n",
        "              clf.fit(X_train, y_train)\n",
        "              acc_s = clf.score(X_train, y_train, sample_weight=None)*100\n",
        "              acc_s_test = clf.score(X_test, y_test, sample_weight=None)*100\n",
        "              ##############################\n",
        "\n",
        "\n",
        "              if max_accuracy_score < acc_s+acc_s_test:\n",
        "                    max_accuracy_score = acc_s+acc_s_test\n",
        "                    max_accuracy_score_who = who\n",
        "                    print( who + \";\" + \"{:.1f}\".format(acc_s) + \";\" + \"{:.1f}\".format(acc_s_test) +\";\" + \"{:.1f}\".format(acc_s+acc_s_test) )\n",
        "\n",
        "#print( max_f1_score_who )\n",
        "#print( max_accuracy_score_who )\n",
        "#print( conf_mat )\n",
        "\n"
      ]
    }
  ],
  "metadata": {
    "colab": {
      "provenance": [],
      "mount_file_id": "https://github.com/francescopandolfo/TESI_LM32/blob/main/variazione_relativa.ipynb",
      "authorship_tag": "ABX9TyPazGMiHFneomN8qLWy0WdA",
      "include_colab_link": true
    },
    "kernelspec": {
      "display_name": "Python 3",
      "name": "python3"
    },
    "language_info": {
      "name": "python"
    }
  },
  "nbformat": 4,
  "nbformat_minor": 0
}