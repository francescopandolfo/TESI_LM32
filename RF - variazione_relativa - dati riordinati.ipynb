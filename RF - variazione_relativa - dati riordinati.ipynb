{
  "cells": [
    {
      "cell_type": "markdown",
      "metadata": {
        "id": "view-in-github",
        "colab_type": "text"
      },
      "source": [
        "<a href=\"https://colab.research.google.com/github/francescopandolfo/TESI_LM32/blob/main/RF%20-%20variazione_relativa%20-%20dati%20riordinati.ipynb\" target=\"_parent\"><img src=\"https://colab.research.google.com/assets/colab-badge.svg\" alt=\"Open In Colab\"/></a>"
      ]
    },
    {
      "cell_type": "code",
      "source": [
        "from google.colab import drive\n",
        "drive.mount('/content/drive')"
      ],
      "metadata": {
        "colab": {
          "base_uri": "https://localhost:8080/"
        },
        "id": "a4BVpr7woYWn",
        "outputId": "8e45140a-a8b5-4bb4-e2b4-07cda1f2e300"
      },
      "execution_count": 2,
      "outputs": [
        {
          "output_type": "stream",
          "name": "stdout",
          "text": [
            "Mounted at /content/drive\n"
          ]
        }
      ]
    },
    {
      "cell_type": "code",
      "execution_count": 1,
      "metadata": {
        "id": "Y6N3RVtrq6jm"
      },
      "outputs": [],
      "source": [
        "import pandas as pd\n",
        "import matplotlib.pyplot as plt\n",
        "import datetime\n",
        "from sklearn.utils import shuffle\n",
        "\n",
        "import warnings\n",
        "warnings.filterwarnings(\"ignore\")\n",
        "pathDrive = 'drive/MyDrive/UNICT/_TESI/dati/'\n",
        "\n",
        "df = pd.read_csv(pathDrive + 'dati_interpolati_diff_1d-2d_8gg - riordinati.csv', sep=';')\n",
        "\n",
        "df['edam_ecne_eplu_diff'] = df['edam_ecne_eplu_diff'].str.replace(',','.').astype(float)#\n",
        "df['edam_ecor_emcn_diff'] = df['edam_ecor_emcn_diff'].str.replace(',','.').astype(float)\n",
        "df['edam_emsg_eplu_diff'] = df['edam_emsg_eplu_diff'].str.replace(',','.').astype(float)\n",
        "df['edam_epdn_ecne_diff'] = df['edam_epdn_ecne_diff'].str.replace(',','.').astype(float)\n",
        "df['edam_epdn_emcn_diff'] = df['edam_epdn_emcn_diff'].str.replace(',','.').astype(float)\n",
        "df['eint_ecpn_emgl_diff'] = df['eint_ecpn_emgl_diff'].str.replace(',','.').astype(float)#\n",
        "df['eint_esln_emgl_diff'] = df['eint_esln_emgl_diff'].str.replace(',','.').astype(float)\n",
        "df['eint_esln_espc_diff'] = df['eint_esln_espc_diff'].str.replace(',','.').astype(float)\n",
        "df['emeg_ecpn_emgl_diff'] = df['emeg_ecpn_emgl_diff'].str.replace(',','.').astype(float)\n",
        "df['emfn_ecor_ecri_diff'] = df['emfn_ecor_ecri_diff'].str.replace(',','.').astype(float)\n",
        "df['emfn_ecor_emcn_diff'] = df['emfn_ecor_emcn_diff'].str.replace(',','.').astype(float)\n",
        "df['emfn_emcn_epdn_diff'] = df['emfn_emcn_epdn_diff'].str.replace(',','.').astype(float)\n",
        "df['epdn_ecne_ecpn_diff'] = df['epdn_ecne_ecpn_diff'].str.replace(',','.').astype(float)\n",
        "df['epdn_eint_ecpn_diff'] = df['epdn_eint_ecpn_diff'].str.replace(',','.').astype(float)##\n",
        "df['epdn_eint_espc_diff'] = df['epdn_eint_espc_diff'].str.replace(',','.').astype(float)\n",
        "df['epdn_emfn_espc_diff'] = df['epdn_emfn_espc_diff'].str.replace(',','.').astype(float)\n",
        "df['eplu_ecne_ecpn_diff'] = df['eplu_ecne_ecpn_diff'].str.replace(',','.').astype(float)\n",
        "df['eplu_emeg_ecpn_diff'] = df['eplu_emeg_ecpn_diff'].str.replace(',','.').astype(float)\n",
        "df['eplu_emeg_emal_diff'] = df['eplu_emeg_emal_diff'].str.replace(',','.').astype(float)\n",
        "df['eplu_emsg_emal_diff'] = df['eplu_emsg_emal_diff'].str.replace(',','.').astype(float)\n",
        "\n",
        "#df = shuffle(df)\n",
        "#_dftarget = df['evento'].astype(int).values\n",
        "\n",
        "df_train = df[:126]\n",
        "y_train = df_train['evento'].astype(int).values\n",
        "\n",
        "df_val = df[126:170]\n",
        "y_val = df_val['evento'].astype(int).values\n",
        "\n",
        "df_test = df[170:]\n",
        "y_test = df_test['evento'].astype(int).values\n",
        "\n"
      ]
    },
    {
      "cell_type": "code",
      "source": [
        "def toDataFrame(df):\n",
        "  format = '%d/%m/%Y'\n",
        "  df['date'] = pd.to_datetime(df['day'], format=format)\n",
        "  df = df.set_index('date')\n",
        "  df = df.drop(columns=['day'])\n",
        "  df = df.drop(columns=['evento'])\n",
        "\n",
        "  for i in reversed(range(len(df.columns))):\n",
        "    if df.dtypes[df.columns[i]] == 'object':\n",
        "      df = df.drop(df.columns[i], axis=1)\n",
        "\n",
        "  return df\n",
        "\n",
        "df_train = toDataFrame(df_train)\n",
        "df_val = toDataFrame(df_val)\n",
        "df_test = toDataFrame(df_test)\n",
        "\n",
        "df_train_mean = df_train.mean()\n",
        "df_train_std = df_train.std()\n",
        "normalized_df_train = (df_train - df_train_mean) / df_train_std\n",
        "normalized_df_val   = (df_val - df_train_mean) / df_train_std\n",
        "normalized_df_test  = (df_test - df_train_mean) / df_train_std"
      ],
      "metadata": {
        "id": "7Qs3TAcv3Mq9"
      },
      "execution_count": 2,
      "outputs": []
    },
    {
      "cell_type": "code",
      "source": [
        "#print(df_test.info())"
      ],
      "metadata": {
        "id": "JpbThkvu6WC-"
      },
      "execution_count": null,
      "outputs": []
    },
    {
      "cell_type": "code",
      "source": [
        "'''\n",
        "from sklearn import datasets, decomposition\n",
        "pca_feature_number = 16\n",
        "pca = decomposition.PCA(n_components = pca_feature_number)\n",
        "pca.fit(df)\n",
        "new_df = pca.transform(df)\n",
        "\n",
        "for i in range(pca_feature_number):\n",
        "  df['f_' + str(i)] = new_df[:,i]\n",
        "\n",
        "df = df.filter(like='f_')\n",
        "#print(df.info())\n",
        "'''"
      ],
      "metadata": {
        "id": "5-tssgTho8FB"
      },
      "execution_count": 77,
      "outputs": []
    },
    {
      "cell_type": "code",
      "execution_count": null,
      "metadata": {
        "colab": {
          "base_uri": "https://localhost:8080/"
        },
        "id": "80vdfkeh3uQf",
        "outputId": "12c78f47-a2ee-4b64-dc00-d5f23e70a727"
      },
      "outputs": [
        {
          "output_type": "stream",
          "name": "stdout",
          "text": [
            "49779; area 2 - 3 - 9 - 13 - 14 - 15 - 17;95.2;81.8;47.4\n",
            "49780; area 2 - 3 - 9 - 13 - 14 - 15 - 18;97.6;90.9;63.2\n",
            "49785; area 2 - 3 - 9 - 13 - 14 - 17 - 18;99.2;84.1;42.1\n",
            "52664; area 2 - 4 - 9 - 10 - 13 - 16 - 17;100.0;68.2;63.2\n"
          ]
        }
      ],
      "source": [
        "#from sklearn.linear_model import LogisticRegression, LogisticRegressionCV\n",
        "from sklearn.ensemble import RandomForestClassifier\n",
        "from sklearn.model_selection import cross_val_score\n",
        "import numpy as np\n",
        "\n",
        "#y = _dftarget\n",
        "#split_at = 150\n",
        "\n",
        "#max_f1_score = 0\n",
        "#max_f1_score_who = \"\"\n",
        "max_accuracy_train = 0\n",
        "max_accuracy_val = 0\n",
        "max_accuracy_tot = 0\n",
        "max_accuracy_test = 0\n",
        "\n",
        "max_accuracy_train_who = \"\"\n",
        "max_accuracy_val_who = \"\"\n",
        "max_accuracy_tot_who = \"\"\n",
        "max_accuracy_test_who = \"\"\n",
        "contatore = 0\n",
        "\n",
        "clf = RandomForestClassifier(max_depth=5, random_state=0)\n",
        "pca_feature_number = 20 #SOLO SE NON SI USA LA PCA\n",
        "\n",
        "for i in range(pca_feature_number):\n",
        "  for j in range(pca_feature_number):\n",
        "    for a in range(pca_feature_number):\n",
        "      for b in range(pca_feature_number):\n",
        "        for c in range(pca_feature_number):\n",
        "          for d in range(pca_feature_number):\n",
        "            for e in range(pca_feature_number):\n",
        "              #for f in range(pca_feature_number):\n",
        "                #for g in range(pca_feature_number):\n",
        "\n",
        "                  #if i<j and j<a and a<b and b<c and c<d    and i==0 and j==1 and a==2 and b==3 and c==4 and d==5:\n",
        "                  if i<j and j<a and a<b and b<c and c<d and d<e:\n",
        "                    contatore += 1\n",
        "                    if contatore > 49778:\n",
        "                      who = str(contatore) + \"; area \" + str(i) + \" - \" + str(j) + \" - \" + str(a) + \" - \" + str(b) + \" - \" + str(c) + \" - \" + str(d) + \" - \" + str(e)\n",
        "\n",
        "                      X_train = normalized_df_train.values[:, [i,j,a,b,c,d,e]]\n",
        "                      X_val   = normalized_df_val.values[:, [i,j,a,b,c,d,e]]\n",
        "                      X_test  = normalized_df_test.values[:, [i,j,a,b,c,d,e]]\n",
        "\n",
        "                      #X_train = X[:split_at]\n",
        "                      ##X_test = X[split_at:]\n",
        "\n",
        "                      #y_train = y[:split_at]\n",
        "                      #y_test = y[split_at:]\n",
        "\n",
        "                      ################ LOGISTIC REGRESSION with CROSS VALIDATION\n",
        "                      #lr = LogisticRegressionCV(cv=5, random_state=0, class_weight='balanced') #scoring per cambiare metrica\n",
        "                      #lr.fit(X_train, y_train)\n",
        "                      #acc_s = lr.score(X_train, y_train)*100\n",
        "                      #acc_s_test = lr.score(X_test, y_test)*100\n",
        "                      ###########################################################\n",
        "\n",
        "                      ################ RANDOM FOREST\n",
        "                      clf.fit(X_train, y_train)\n",
        "                      acc_train = clf.score(X_train,  y_train,  sample_weight=None)*100\n",
        "                      acc_val   = clf.score(X_val,    y_val,    sample_weight=None)*100\n",
        "                      acc_test  = clf.score(X_test,   y_test,    sample_weight=None)*100\n",
        "                      #acc_test  = clf.score(X_test,   y_test,   sample_weight=None)*100\n",
        "                      #acc_s = np.mean(cross_val_score(clf, X_train, y_train, cv=5))*100\n",
        "\n",
        "                      ##############################\n",
        "\n",
        "                      acc_tot = acc_train + acc_val\n",
        "\n",
        "                      if (max_accuracy_train < acc_train or max_accuracy_val < acc_val or max_accuracy_tot < acc_tot) or (acc_val >= 90) :\n",
        "                        print( who + \";\" + \"{:.1f}\".format(acc_train) + \";\" + \"{:.1f}\".format(acc_val) +\";\" + \"{:.1f}\".format(acc_test) )\n",
        "\n",
        "                        if max_accuracy_train < acc_train:\n",
        "                          max_accuracy_train = acc_train\n",
        "                          max_accuracy_train_who = who\n",
        "\n",
        "                        if max_accuracy_val < acc_val:\n",
        "                          max_accuracy_val = acc_val\n",
        "                          max_accuracy_val_who = who\n",
        "\n",
        "                        if max_accuracy_tot < acc_tot:\n",
        "                          max_accuracy_tot = acc_tot\n",
        "\n",
        "\n",
        "#print( max_f1_score_who )\n",
        "#print( max_accuracy_score_who )\n",
        "print( \"---------------------> \" + max_accuracy_train_who + \" \" + str(max_accuracy_train) )\n",
        "print( \"---------------------> \" + max_accuracy_val_who + \" \" + str(max_accuracy_val) )\n",
        "#print( conf_mat )\n",
        "\n"
      ]
    }
  ],
  "metadata": {
    "colab": {
      "provenance": [],
      "mount_file_id": "https://github.com/francescopandolfo/TESI_LM32/blob/main/PCA%20%2B%20RF%20-%20variazione_relativa.ipynb",
      "authorship_tag": "ABX9TyNLImqmHFzxhrByyFlawl2Z",
      "include_colab_link": true
    },
    "kernelspec": {
      "display_name": "Python 3",
      "name": "python3"
    },
    "language_info": {
      "name": "python"
    }
  },
  "nbformat": 4,
  "nbformat_minor": 0
}