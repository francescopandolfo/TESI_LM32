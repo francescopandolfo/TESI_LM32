{
  "cells": [
    {
      "cell_type": "markdown",
      "metadata": {
        "id": "view-in-github",
        "colab_type": "text"
      },
      "source": [
        "<a href=\"https://colab.research.google.com/github/francescopandolfo/TESI_LM32/blob/main/RF%20-%20variazione_relativa%20-%20fontane.ipynb\" target=\"_parent\"><img src=\"https://colab.research.google.com/assets/colab-badge.svg\" alt=\"Open In Colab\"/></a>"
      ]
    },
    {
      "cell_type": "code",
      "source": [
        "from google.colab import drive\n",
        "drive.mount('/content/drive')"
      ],
      "metadata": {
        "id": "PDO-FdcSriN5",
        "outputId": "e6951b35-6b12-4fd6-f213-c77077d1d6eb",
        "colab": {
          "base_uri": "https://localhost:8080/"
        }
      },
      "execution_count": 1,
      "outputs": [
        {
          "output_type": "stream",
          "name": "stdout",
          "text": [
            "Mounted at /content/drive\n"
          ]
        }
      ]
    },
    {
      "cell_type": "code",
      "execution_count": 2,
      "metadata": {
        "id": "Y6N3RVtrq6jm"
      },
      "outputs": [],
      "source": [
        "import pandas as pd\n",
        "import matplotlib.pyplot as plt\n",
        "import datetime\n",
        "from sklearn.utils import shuffle\n",
        "\n",
        "import warnings\n",
        "warnings.filterwarnings(\"ignore\")\n",
        "pathDrive = 'drive/MyDrive/UNICT/_TESI/dati/'\n",
        "\n",
        "#df = pd.read_csv('sample_data/dati_interpolati_diff_1d-2d_undsamp_7gg.csv', sep=';')\n",
        "df = pd.read_csv(pathDrive + 'dati_interpolati_diff_1d-2d_8gg - fontane.csv', sep=';')\n",
        "#df = pd.read_csv('tesi/dati_interpolati_diff_1d_undsamp_7gg_2classi.csv', sep=';')\n",
        "#df = pd.read_csv('sample_data/dati_interpolati_diff_3d-3d_undsamp_7gg.csv', sep=';')\n",
        "\n",
        "df['edam_ecne_eplu_diff'] = df['edam_ecne_eplu_diff'].str.replace(',','.').astype(float)#\n",
        "df['edam_ecor_emcn_diff'] = df['edam_ecor_emcn_diff'].str.replace(',','.').astype(float)\n",
        "df['edam_emsg_eplu_diff'] = df['edam_emsg_eplu_diff'].str.replace(',','.').astype(float)\n",
        "df['edam_epdn_ecne_diff'] = df['edam_epdn_ecne_diff'].str.replace(',','.').astype(float)\n",
        "df['edam_epdn_emcn_diff'] = df['edam_epdn_emcn_diff'].str.replace(',','.').astype(float)\n",
        "df['eint_ecpn_emgl_diff'] = df['eint_ecpn_emgl_diff'].str.replace(',','.').astype(float)#\n",
        "df['eint_esln_emgl_diff'] = df['eint_esln_emgl_diff'].str.replace(',','.').astype(float)\n",
        "df['eint_esln_espc_diff'] = df['eint_esln_espc_diff'].str.replace(',','.').astype(float)\n",
        "df['emeg_ecpn_emgl_diff'] = df['emeg_ecpn_emgl_diff'].str.replace(',','.').astype(float)\n",
        "df['emfn_ecor_ecri_diff'] = df['emfn_ecor_ecri_diff'].str.replace(',','.').astype(float)\n",
        "df['emfn_ecor_emcn_diff'] = df['emfn_ecor_emcn_diff'].str.replace(',','.').astype(float)\n",
        "df['emfn_emcn_epdn_diff'] = df['emfn_emcn_epdn_diff'].str.replace(',','.').astype(float)\n",
        "df['epdn_ecne_ecpn_diff'] = df['epdn_ecne_ecpn_diff'].str.replace(',','.').astype(float)\n",
        "df['epdn_eint_ecpn_diff'] = df['epdn_eint_ecpn_diff'].str.replace(',','.').astype(float)##\n",
        "df['epdn_eint_espc_diff'] = df['epdn_eint_espc_diff'].str.replace(',','.').astype(float)\n",
        "df['epdn_emfn_espc_diff'] = df['epdn_emfn_espc_diff'].str.replace(',','.').astype(float)\n",
        "df['eplu_ecne_ecpn_diff'] = df['eplu_ecne_ecpn_diff'].str.replace(',','.').astype(float)\n",
        "df['eplu_emeg_ecpn_diff'] = df['eplu_emeg_ecpn_diff'].str.replace(',','.').astype(float)\n",
        "df['eplu_emeg_emal_diff'] = df['eplu_emeg_emal_diff'].str.replace(',','.').astype(float)\n",
        "df['eplu_emsg_emal_diff'] = df['eplu_emsg_emal_diff'].str.replace(',','.').astype(float)\n",
        "\n",
        "df = shuffle(df)\n",
        "_dftarget = df['evento'].astype(int).values\n",
        "\n",
        "format = '%d/%m/%Y'\n",
        "df['date'] = pd.to_datetime(df['day'], format=format)\n",
        "df = df.set_index('date')\n",
        "df = df.drop(columns=['day'])\n",
        "df = df.drop(columns=['evento'])\n",
        "\n",
        "for i in reversed(range(len(df.columns))):\n",
        "  if df.dtypes[df.columns[i]] == 'object':\n",
        "    df = df.drop(df.columns[i], axis=1)\n",
        "\n",
        "normalized_df = (df - df.mean()) / df.std()\n",
        "df = normalized_df\n",
        "\n",
        "#print(df.info())\n"
      ]
    },
    {
      "cell_type": "code",
      "execution_count": null,
      "metadata": {
        "colab": {
          "base_uri": "https://localhost:8080/"
        },
        "id": "80vdfkeh3uQf",
        "outputId": "99e170f8-e077-428e-9e53-f03fa9e5fd0c"
      },
      "outputs": [
        {
          "output_type": "stream",
          "name": "stdout",
          "text": [
            "area 1 - 2 - 3 - 4 - 5 - 6;97.4;40.0;137.4\n",
            "area 1 - 2 - 3 - 4 - 5 - 7;89.5;46.7;136.1\n",
            "area 1 - 2 - 3 - 4 - 5 - 12;89.5;60.0;149.5\n",
            "area 1 - 2 - 3 - 4 - 5 - 14;89.5;53.3;142.8\n",
            "area 1 - 2 - 3 - 4 - 6 - 14;97.4;53.3;150.7\n",
            "area 1 - 2 - 3 - 4 - 6 - 17;100.0;60.0;160.0\n",
            "area 1 - 2 - 3 - 4 - 9 - 15;92.1;60.0;152.1\n",
            "area 1 - 2 - 3 - 4 - 13 - 17;97.4;66.7;164.0\n",
            "area 1 - 2 - 3 - 5 - 6 - 17;94.7;66.7;161.4\n",
            "area 1 - 2 - 6 - 10 - 13 - 15;100.0;66.7;166.7\n"
          ]
        }
      ],
      "source": [
        "from sklearn.model_selection import cross_val_score\n",
        "import numpy as np\n",
        "from sklearn.ensemble import RandomForestClassifier\n",
        "\n",
        "def processa():\n",
        "\n",
        "  feature_number = 20\n",
        "  clf = RandomForestClassifier(max_depth=3, random_state=0)\n",
        "\n",
        "  y = _dftarget\n",
        "  split_at = 38\n",
        "\n",
        "  #max_f1_score = 0\n",
        "  #max_f1_score_who = \"\"\n",
        "  max_accuracy_score_test = 0\n",
        "  max_accuracy_score_test_who = \"\"\n",
        "\n",
        "  max_accuracy_score = 0\n",
        "  max_accuracy_score_who = \"\"\n",
        "\n",
        "  for i in range(feature_number):\n",
        "    for j in range(feature_number):\n",
        "      for a in range(feature_number):\n",
        "        for b in range(feature_number):\n",
        "          for c in range(feature_number):\n",
        "            for d in range(feature_number):\n",
        "              #for e in range(feature_number):\n",
        "                #for f in range(feature_number):\n",
        "                  #for g in range(feature_number):\n",
        "                    #for h in range(feature_number):\n",
        "\n",
        "              if i<j and j<a and a<b and b<c and c<d and i>0:\n",
        "              #if i==4 and j==7 and a==14:\n",
        "\n",
        "                X = df.values[:, [i,j,a,b,c,d]]\n",
        "                who = \"area \" + str(i) + \" - \" + str(j) + \" - \" + str(a) + \" - \" + str(b) + \" - \" + str(c) + \" - \" + str(d)\n",
        "\n",
        "                X_train = X[:split_at]\n",
        "                X_test = X[split_at:]\n",
        "\n",
        "                y_train = y[:split_at]\n",
        "                y_test = y[split_at:]\n",
        "\n",
        "\n",
        "                clf.fit(X_train, y_train)\n",
        "\n",
        "                #Return the mean accuracy on the given test data and labels.\n",
        "                acc_s = clf.score(X_train, y_train, sample_weight=None)*100\n",
        "                #acc_s = np.mean(cross_val_score(clf, X_train, y_train, cv=5))*100\n",
        "\n",
        "                acc_s_test = clf.score(X_test, y_test, sample_weight=None)*100\n",
        "\n",
        "                #print(clf.predict([[0, 0, 0, 0]]))\n",
        "\n",
        "                if max_accuracy_score < acc_s+acc_s_test:\n",
        "                  max_accuracy_score = acc_s+acc_s_test\n",
        "                  max_accuracy_score_who = who\n",
        "                  print( who + \";\" + \"{:.1f}\".format(acc_s) + \";\" + \"{:.1f}\".format(acc_s_test) +\";\" + \"{:.1f}\".format(acc_s+acc_s_test) )\n",
        "\n",
        "                else:\n",
        "                  if max_accuracy_score_test < acc_s_test:\n",
        "                    max_accuracy_score_test = acc_s_test\n",
        "                    max_accuracy_score_test_who = who\n",
        "                    print( who + \";\" + \"{:.1f}\".format(acc_s) + \";\" + \"{:.1f}\".format(acc_s_test) +\";\" + \"{:.1f}\".format(acc_s+acc_s_test) )\n",
        "\n",
        "\n",
        "\n",
        "  #print( max_f1_score_who )\n",
        "  print( \"--------------------- max > \" + max_accuracy_score_who + \" \" + str(max_accuracy_score) )\n",
        "  print( \"--------------------- max test> \" + max_accuracy_score_test_who + \" \" + str(max_accuracy_score_test) )\n",
        "  #print( conf_mat )\n",
        "\n",
        "processa()"
      ]
    }
  ],
  "metadata": {
    "colab": {
      "provenance": [],
      "mount_file_id": "https://github.com/francescopandolfo/TESI_LM32/blob/main/variazione_relativa%20-%20fontane.ipynb",
      "authorship_tag": "ABX9TyME4RdUC4HdddlaXXdjn/FF",
      "include_colab_link": true
    },
    "kernelspec": {
      "display_name": "Python 3",
      "name": "python3"
    },
    "language_info": {
      "name": "python"
    }
  },
  "nbformat": 4,
  "nbformat_minor": 0
}