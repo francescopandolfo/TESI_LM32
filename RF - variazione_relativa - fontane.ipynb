{
  "cells": [
    {
      "cell_type": "markdown",
      "metadata": {
        "id": "view-in-github",
        "colab_type": "text"
      },
      "source": [
        "<a href=\"https://colab.research.google.com/github/francescopandolfo/TESI_LM32/blob/main/RF%20-%20variazione_relativa%20-%20fontane.ipynb\" target=\"_parent\"><img src=\"https://colab.research.google.com/assets/colab-badge.svg\" alt=\"Open In Colab\"/></a>"
      ]
    },
    {
      "cell_type": "code",
      "source": [
        "from google.colab import drive\n",
        "drive.mount('/content/drive')"
      ],
      "metadata": {
        "id": "PDO-FdcSriN5",
        "outputId": "a411f72b-26b5-4aa4-deed-c43ab6fc8a57",
        "colab": {
          "base_uri": "https://localhost:8080/"
        }
      },
      "execution_count": 1,
      "outputs": [
        {
          "output_type": "stream",
          "name": "stdout",
          "text": [
            "Mounted at /content/drive\n"
          ]
        }
      ]
    },
    {
      "cell_type": "code",
      "execution_count": 2,
      "metadata": {
        "id": "Y6N3RVtrq6jm"
      },
      "outputs": [],
      "source": [
        "import pandas as pd\n",
        "import matplotlib.pyplot as plt\n",
        "import datetime\n",
        "from sklearn.utils import shuffle\n",
        "\n",
        "import warnings\n",
        "warnings.filterwarnings(\"ignore\")\n",
        "pathDrive = 'drive/MyDrive/UNICT/_TESI/dati/'\n",
        "\n",
        "#df = pd.read_csv('sample_data/dati_interpolati_diff_1d-2d_undsamp_7gg.csv', sep=';')\n",
        "df = pd.read_csv(pathDrive + 'dati_interpolati_diff_1d-2d_8gg - fontane.csv', sep=';')\n",
        "#df = pd.read_csv('tesi/dati_interpolati_diff_1d_undsamp_7gg_2classi.csv', sep=';')\n",
        "#df = pd.read_csv('sample_data/dati_interpolati_diff_3d-3d_undsamp_7gg.csv', sep=';')\n",
        "\n",
        "df['edam_ecne_eplu_diff'] = df['edam_ecne_eplu_diff'].str.replace(',','.').astype(float)#\n",
        "df['edam_ecor_emcn_diff'] = df['edam_ecor_emcn_diff'].str.replace(',','.').astype(float)\n",
        "df['edam_emsg_eplu_diff'] = df['edam_emsg_eplu_diff'].str.replace(',','.').astype(float)\n",
        "df['edam_epdn_ecne_diff'] = df['edam_epdn_ecne_diff'].str.replace(',','.').astype(float)\n",
        "df['edam_epdn_emcn_diff'] = df['edam_epdn_emcn_diff'].str.replace(',','.').astype(float)\n",
        "df['eint_ecpn_emgl_diff'] = df['eint_ecpn_emgl_diff'].str.replace(',','.').astype(float)#\n",
        "df['eint_esln_emgl_diff'] = df['eint_esln_emgl_diff'].str.replace(',','.').astype(float)\n",
        "df['eint_esln_espc_diff'] = df['eint_esln_espc_diff'].str.replace(',','.').astype(float)\n",
        "df['emeg_ecpn_emgl_diff'] = df['emeg_ecpn_emgl_diff'].str.replace(',','.').astype(float)\n",
        "df['emfn_ecor_ecri_diff'] = df['emfn_ecor_ecri_diff'].str.replace(',','.').astype(float)\n",
        "df['emfn_ecor_emcn_diff'] = df['emfn_ecor_emcn_diff'].str.replace(',','.').astype(float)\n",
        "df['emfn_emcn_epdn_diff'] = df['emfn_emcn_epdn_diff'].str.replace(',','.').astype(float)\n",
        "df['epdn_ecne_ecpn_diff'] = df['epdn_ecne_ecpn_diff'].str.replace(',','.').astype(float)\n",
        "df['epdn_eint_ecpn_diff'] = df['epdn_eint_ecpn_diff'].str.replace(',','.').astype(float)##\n",
        "df['epdn_eint_espc_diff'] = df['epdn_eint_espc_diff'].str.replace(',','.').astype(float)\n",
        "df['epdn_emfn_espc_diff'] = df['epdn_emfn_espc_diff'].str.replace(',','.').astype(float)\n",
        "df['eplu_ecne_ecpn_diff'] = df['eplu_ecne_ecpn_diff'].str.replace(',','.').astype(float)\n",
        "df['eplu_emeg_ecpn_diff'] = df['eplu_emeg_ecpn_diff'].str.replace(',','.').astype(float)\n",
        "df['eplu_emeg_emal_diff'] = df['eplu_emeg_emal_diff'].str.replace(',','.').astype(float)\n",
        "df['eplu_emsg_emal_diff'] = df['eplu_emsg_emal_diff'].str.replace(',','.').astype(float)\n",
        "\n",
        "df = shuffle(df)\n",
        "_dftarget = df['evento'].astype(int).values\n",
        "\n",
        "format = '%d/%m/%Y'\n",
        "df['date'] = pd.to_datetime(df['day'], format=format)\n",
        "df = df.set_index('date')\n",
        "df = df.drop(columns=['day'])\n",
        "df = df.drop(columns=['evento'])\n",
        "\n",
        "for i in reversed(range(len(df.columns))):\n",
        "  if df.dtypes[df.columns[i]] == 'object':\n",
        "    df = df.drop(df.columns[i], axis=1)\n",
        "\n",
        "normalized_df = (df - df.mean()) / df.std()\n",
        "df = normalized_df\n",
        "\n",
        "#print(df.info())\n"
      ]
    },
    {
      "cell_type": "code",
      "source": [
        "from sklearn import datasets, decomposition\n",
        "pca_feature_number = 17\n",
        "pca = decomposition.PCA(n_components = pca_feature_number)\n",
        "pca.fit(df)\n",
        "new_df = pca.transform(df)\n",
        "\n",
        "for i in range(pca_feature_number):\n",
        "  df['f_' + str(i)] = new_df[:,i]\n",
        "\n",
        "df = df.filter(like='f_')\n",
        "#print(df.info())"
      ],
      "metadata": {
        "id": "wlEo6K9LrQ6K"
      },
      "execution_count": 3,
      "outputs": []
    },
    {
      "cell_type": "code",
      "execution_count": 4,
      "metadata": {
        "id": "mx9qNUCl3pT3"
      },
      "outputs": [],
      "source": [
        "import numpy as np\n",
        "from sklearn import datasets\n",
        "from sklearn.model_selection import train_test_split\n",
        "from mlxtend.plotting import plot_decision_regions\n",
        "from sklearn.linear_model import LogisticRegression, LogisticRegressionCV\n",
        "from sklearn.metrics import f1_score, accuracy_score, confusion_matrix\n",
        "import matplotlib.pyplot as plt"
      ]
    },
    {
      "cell_type": "code",
      "execution_count": null,
      "metadata": {
        "colab": {
          "base_uri": "https://localhost:8080/"
        },
        "id": "80vdfkeh3uQf",
        "outputId": "4b0e6d65-9e62-4183-e40e-3c98531b39e9"
      },
      "outputs": [
        {
          "output_type": "stream",
          "name": "stdout",
          "text": [
            "area 0 - 1 - 2 - 3;73.7;60.0;133.7\n",
            "area 0 - 1 - 2 - 5;76.3;60.0;136.3\n",
            "area 0 - 1 - 2 - 7;73.7;66.7;140.4\n",
            "area 0 - 1 - 3 - 11;68.4;73.3;141.8\n",
            "area 0 - 1 - 3 - 12;71.1;73.3;144.4\n",
            "area 0 - 2 - 3 - 6;78.9;66.7;145.6\n",
            "area 0 - 3 - 6 - 8;73.7;73.3;147.0\n",
            "area 0 - 3 - 6 - 16;76.3;80.0;156.3\n"
          ]
        }
      ],
      "source": [
        "y = _dftarget\n",
        "split_at = 38\n",
        "plottare = False\n",
        "\n",
        "#max_f1_score = 0\n",
        "#max_f1_score_who = \"\"\n",
        "max_accuracy_score = 0\n",
        "max_accuracy_score_who = \"\"\n",
        "\n",
        "for i in range(pca_feature_number):\n",
        "  for j in range(pca_feature_number):\n",
        "    for a in range(pca_feature_number):\n",
        "      for b in range(pca_feature_number):\n",
        "        #for c in range(pca_feature_number):\n",
        "          #for d in range(pca_feature_number):\n",
        "\n",
        "          if i<j and j<a and a<b:\n",
        "          #if i==6 and j==17:\n",
        "\n",
        "            X = df.values[:, [i,j,a,b]]\n",
        "            who = \"area \" + str(i) + \" - \" + str(j) + \" - \" + str(a) + \" - \" + str(b)\n",
        "\n",
        "            X_train = X[:split_at]\n",
        "            X_test = X[split_at:]\n",
        "\n",
        "            y_train = y[:split_at]\n",
        "            y_test = y[split_at:]\n",
        "\n",
        "            lr = LogisticRegressionCV(cv=5, random_state=0, class_weight='balanced') #scoring per cambiare metrica\n",
        "            lr.fit(X_train, y_train)\n",
        "\n",
        "            acc_s = lr.score(X_train, y_train)*100\n",
        "            acc_s_test = lr.score(X_test, y_test)*100\n",
        "\n",
        "            if max_accuracy_score < acc_s+acc_s_test:\n",
        "              max_accuracy_score = acc_s+acc_s_test\n",
        "              max_accuracy_score_who = who\n",
        "              print( who + \";\" + \"{:.1f}\".format(acc_s) + \";\" + \"{:.1f}\".format(acc_s_test) +\";\" + \"{:.1f}\".format(acc_s+acc_s_test) )\n",
        "\n",
        "\n",
        "#print( max_f1_score_who )\n",
        "#print( max_accuracy_score_who )\n",
        "#print( conf_mat )\n",
        "\n"
      ]
    }
  ],
  "metadata": {
    "colab": {
      "provenance": [],
      "mount_file_id": "https://github.com/francescopandolfo/TESI_LM32/blob/main/variazione_relativa%20-%20fontane.ipynb",
      "authorship_tag": "ABX9TyPmluF8BvLHj868Xdipq13+",
      "include_colab_link": true
    },
    "kernelspec": {
      "display_name": "Python 3",
      "name": "python3"
    },
    "language_info": {
      "name": "python"
    }
  },
  "nbformat": 4,
  "nbformat_minor": 0
}